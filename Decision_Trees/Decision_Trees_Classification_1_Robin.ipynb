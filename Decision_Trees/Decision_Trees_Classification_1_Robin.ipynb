{
 "cells": [
  {
   "cell_type": "markdown",
   "metadata": {},
   "source": [
    "# Imports"
   ]
  },
  {
   "cell_type": "code",
   "execution_count": 6,
   "metadata": {},
   "outputs": [],
   "source": [
    "# numpy and pandas\n",
    "import pandas as pd\n",
    "import numpy as np\n",
    "\n",
    "# matplotlib and seaborn\n",
    "import matplotlib.pyplot as plt\n",
    "import seaborn as sns\n",
    "sns.set()\n",
    "\n",
    "# sklearn\n",
    "from sklearn.tree import DecisionTreeClassifier\n",
    "from sklearn.model_selection import train_test_split\n",
    "from sklearn.metrics import confusion_matrix\n",
    "from sklearn.metrics import accuracy_score\n",
    "from sklearn.metrics import classification_report\n",
    "from sklearn.tree import plot_tree"
   ]
  },
  {
   "cell_type": "code",
   "execution_count": 7,
   "metadata": {},
   "outputs": [],
   "source": [
    "# Function importing Dataset \n",
    "\n",
    "def importdata():\n",
    "    url = (\n",
    "        'https://archive.ics.uci.edu/ml/machine-learning-'+\n",
    "        'databases/balance-scale/balance-scale.data'\n",
    "    )\n",
    "    data = pd.read_csv(url, sep=',', header=None)\n",
    "    return data"
   ]
  },
  {
   "cell_type": "code",
   "execution_count": 8,
   "metadata": {},
   "outputs": [],
   "source": [
    "importdata()\n",
    "data=importdata()"
   ]
  },
  {
   "cell_type": "code",
   "execution_count": 9,
   "metadata": {},
   "outputs": [
    {
     "data": {
      "text/plain": [
       "Int64Index([0, 1, 2, 3, 4], dtype='int64')"
      ]
     },
     "execution_count": 9,
     "metadata": {},
     "output_type": "execute_result"
    }
   ],
   "source": [
    "data.columns"
   ]
  },
  {
   "cell_type": "code",
   "execution_count": 10,
   "metadata": {},
   "outputs": [
    {
     "data": {
      "text/plain": [
       "R    288\n",
       "L    288\n",
       "B     49\n",
       "Name: 0, dtype: int64"
      ]
     },
     "execution_count": 10,
     "metadata": {},
     "output_type": "execute_result"
    }
   ],
   "source": [
    "data[0].value_counts()"
   ]
  },
  {
   "cell_type": "code",
   "execution_count": 11,
   "metadata": {},
   "outputs": [],
   "source": [
    "# Function to split the dataset \n",
    "def splitdataset(balance_data): \n",
    "    # Seperating the target variable \n",
    "    X = balance_data.values[:, 1:5] \n",
    "    Y = balance_data.values[:, 0] \n",
    "    # Spliting the dataset into train and test \n",
    "    X_train, X_test, y_train, y_test = train_test_split(\n",
    "        X,\n",
    "        Y,\n",
    "        test_size=.3,\n",
    "        random_state=25\n",
    "    ) \n",
    "    return X, Y, X_train, X_test, y_train, y_test"
   ]
  },
  {
   "cell_type": "code",
   "execution_count": 12,
   "metadata": {},
   "outputs": [],
   "source": [
    "# Function to perform training with giniIndex. \n",
    "def train_using_gini(X_train, X_test, y_train): \n",
    "    # Creating the classifier object \n",
    "    clf_gini = DecisionTreeClassifier(\n",
    "        criterion='gini', \n",
    "        random_state=100,\n",
    "        max_depth=3,\n",
    "        min_samples_leaf=1\n",
    "    ) \n",
    "    # Performing training \n",
    "    clf_gini.fit(X_train, y_train) \n",
    "    return clf_gini "
   ]
  },
  {
   "cell_type": "code",
   "execution_count": 13,
   "metadata": {},
   "outputs": [],
   "source": [
    "# Function to perform training with entropy. \n",
    "def tarin_using_entropy(X_train, X_test, y_train): \n",
    "    # Decision tree with entropy \n",
    "    clf_entropy=DecisionTreeClassifier(\n",
    "        criterion='entropy',\n",
    "        random_state=100, \n",
    "        max_depth=3,\n",
    "        min_samples_leaf=5\n",
    "    ) \n",
    "    # Performing training \n",
    "    clf_entropy.fit(X_train, y_train) \n",
    "    return clf_entropy "
   ]
  },
  {
   "cell_type": "code",
   "execution_count": 14,
   "metadata": {},
   "outputs": [],
   "source": [
    "# Function to make predictions \n",
    "def prediction(X_test, clf_object): \n",
    "    # Predicton on test with giniIndex \n",
    "    y_pred = clf_object.predict(X_test) \n",
    "    print(\"Predicted values:\") \n",
    "    print(y_pred) \n",
    "    return y_pred "
   ]
  },
  {
   "cell_type": "code",
   "execution_count": 15,
   "metadata": {},
   "outputs": [],
   "source": [
    "# Function to calculate accuracy \n",
    "def cal_accuracy(y_test, y_pred): \n",
    "    print(\n",
    "        'Confusion Matrix: ',\n",
    "        confusion_matrix(y_test, y_pred)\n",
    "    ) \n",
    "    print(\n",
    "        'Accuracy (%): ',\n",
    "        accuracy_score(y_test,y_pred)*100\n",
    "    )\n",
    "    print(\n",
    "        'Report: ',\n",
    "        classification_report(y_test, y_pred)\n",
    "    )"
   ]
  },
  {
   "cell_type": "code",
   "execution_count": 16,
   "metadata": {},
   "outputs": [],
   "source": [
    "data = importdata() \n",
    "X, Y, X_train, X_test, y_train, y_test = splitdataset(data)"
   ]
  },
  {
   "cell_type": "code",
   "execution_count": 22,
   "metadata": {},
   "outputs": [
    {
     "data": {
      "text/plain": [
       "[Text(161.42142857142858, 199.32, 'X[2] <= 2.5\\ngini = 0.569\\nsamples = 437\\nvalue = [34, 203, 200]'),\n",
       " Text(82.20535714285714, 163.07999999999998, 'X[0] <= 1.5\\ngini = 0.46\\nsamples = 174\\nvalue = [14, 121, 39]'),\n",
       " Text(44.839285714285715, 126.83999999999999, 'X[3] <= 2.5\\ngini = 0.542\\nsamples = 34\\nvalue = [3, 11, 20]'),\n",
       " Text(23.914285714285715, 90.6, 'X[1] <= 1.5\\ngini = 0.462\\nsamples = 13\\nvalue = [1, 9, 3]'),\n",
       " Text(11.957142857142857, 54.359999999999985, 'X[2] <= 1.5\\ngini = 0.5\\nsamples = 2\\nvalue = [1, 0, 1]'),\n",
       " Text(5.978571428571429, 18.119999999999976, 'gini = 0.0\\nsamples = 1\\nvalue = [1, 0, 0]'),\n",
       " Text(17.935714285714287, 18.119999999999976, 'gini = 0.0\\nsamples = 1\\nvalue = [0, 0, 1]'),\n",
       " Text(35.871428571428574, 54.359999999999985, 'X[2] <= 1.5\\ngini = 0.298\\nsamples = 11\\nvalue = [0, 9, 2]'),\n",
       " Text(29.892857142857142, 18.119999999999976, 'gini = 0.0\\nsamples = 6\\nvalue = [0, 6, 0]'),\n",
       " Text(41.85, 18.119999999999976, 'gini = 0.48\\nsamples = 5\\nvalue = [0, 3, 2]'),\n",
       " Text(65.76428571428572, 90.6, 'X[2] <= 1.5\\ngini = 0.327\\nsamples = 21\\nvalue = [2, 2, 17]'),\n",
       " Text(59.785714285714285, 54.359999999999985, 'X[1] <= 4.5\\ngini = 0.593\\nsamples = 9\\nvalue = [2, 2, 5]'),\n",
       " Text(53.80714285714286, 18.119999999999976, 'gini = 0.408\\nsamples = 7\\nvalue = [2, 0, 5]'),\n",
       " Text(65.76428571428572, 18.119999999999976, 'gini = 0.0\\nsamples = 2\\nvalue = [0, 2, 0]'),\n",
       " Text(71.74285714285715, 54.359999999999985, 'gini = 0.0\\nsamples = 12\\nvalue = [0, 0, 12]'),\n",
       " Text(119.57142857142857, 126.83999999999999, 'X[1] <= 1.5\\ngini = 0.358\\nsamples = 140\\nvalue = [11, 110, 19]'),\n",
       " Text(95.65714285714286, 90.6, 'X[3] <= 2.5\\ngini = 0.607\\nsamples = 26\\nvalue = [4, 9, 13]'),\n",
       " Text(83.7, 54.359999999999985, 'X[0] <= 2.5\\ngini = 0.46\\nsamples = 10\\nvalue = [2, 7, 1]'),\n",
       " Text(77.72142857142858, 18.119999999999976, 'gini = 0.444\\nsamples = 3\\nvalue = [2, 0, 1]'),\n",
       " Text(89.67857142857143, 18.119999999999976, 'gini = 0.0\\nsamples = 7\\nvalue = [0, 7, 0]'),\n",
       " Text(107.61428571428571, 54.359999999999985, 'X[2] <= 1.5\\ngini = 0.406\\nsamples = 16\\nvalue = [2, 2, 12]'),\n",
       " Text(101.63571428571429, 18.119999999999976, 'gini = 0.593\\nsamples = 9\\nvalue = [2, 2, 5]'),\n",
       " Text(113.59285714285714, 18.119999999999976, 'gini = 0.0\\nsamples = 7\\nvalue = [0, 0, 7]'),\n",
       " Text(143.4857142857143, 90.6, 'X[2] <= 1.5\\ngini = 0.209\\nsamples = 114\\nvalue = [7, 101, 6]'),\n",
       " Text(131.52857142857144, 54.359999999999985, 'X[3] <= 4.5\\ngini = 0.033\\nsamples = 60\\nvalue = [0, 59, 1]'),\n",
       " Text(125.55, 18.119999999999976, 'gini = 0.0\\nsamples = 47\\nvalue = [0, 47, 0]'),\n",
       " Text(137.50714285714287, 18.119999999999976, 'gini = 0.142\\nsamples = 13\\nvalue = [0, 12, 1]'),\n",
       " Text(155.44285714285715, 54.359999999999985, 'X[0] <= 2.5\\ngini = 0.37\\nsamples = 54\\nvalue = [7, 42, 5]'),\n",
       " Text(149.46428571428572, 18.119999999999976, 'gini = 0.611\\nsamples = 12\\nvalue = [4, 6, 2]'),\n",
       " Text(161.42142857142858, 18.119999999999976, 'gini = 0.255\\nsamples = 42\\nvalue = [3, 36, 3]'),\n",
       " Text(240.63750000000002, 163.07999999999998, 'X[3] <= 1.5\\ngini = 0.522\\nsamples = 263\\nvalue = [20, 82, 161]'),\n",
       " Text(194.30357142857144, 126.83999999999999, 'X[0] <= 1.5\\ngini = 0.407\\nsamples = 54\\nvalue = [3, 40, 11]'),\n",
       " Text(173.37857142857143, 90.6, 'X[1] <= 3.5\\ngini = 0.43\\nsamples = 11\\nvalue = [1, 2, 8]'),\n",
       " Text(167.4, 54.359999999999985, 'gini = 0.0\\nsamples = 8\\nvalue = [0, 0, 8]'),\n",
       " Text(179.35714285714286, 54.359999999999985, 'X[2] <= 3.5\\ngini = 0.444\\nsamples = 3\\nvalue = [1, 2, 0]'),\n",
       " Text(173.37857142857143, 18.119999999999976, 'gini = 0.0\\nsamples = 2\\nvalue = [0, 2, 0]'),\n",
       " Text(185.3357142857143, 18.119999999999976, 'gini = 0.0\\nsamples = 1\\nvalue = [1, 0, 0]'),\n",
       " Text(215.22857142857143, 90.6, 'X[1] <= 1.5\\ngini = 0.212\\nsamples = 43\\nvalue = [2, 38, 3]'),\n",
       " Text(203.27142857142857, 54.359999999999985, 'X[0] <= 3.5\\ngini = 0.611\\nsamples = 6\\nvalue = [1, 3, 2]'),\n",
       " Text(197.29285714285714, 18.119999999999976, 'gini = 0.0\\nsamples = 2\\nvalue = [0, 0, 2]'),\n",
       " Text(209.25, 18.119999999999976, 'gini = 0.375\\nsamples = 4\\nvalue = [1, 3, 0]'),\n",
       " Text(227.18571428571428, 54.359999999999985, 'X[0] <= 2.5\\ngini = 0.104\\nsamples = 37\\nvalue = [1, 35, 1]'),\n",
       " Text(221.20714285714286, 18.119999999999976, 'gini = 0.34\\nsamples = 10\\nvalue = [1, 8, 1]'),\n",
       " Text(233.1642857142857, 18.119999999999976, 'gini = 0.0\\nsamples = 27\\nvalue = [0, 27, 0]'),\n",
       " Text(286.9714285714286, 126.83999999999999, 'X[0] <= 3.5\\ngini = 0.438\\nsamples = 209\\nvalue = [17, 42, 150]'),\n",
       " Text(263.0571428571429, 90.6, 'X[3] <= 2.5\\ngini = 0.193\\nsamples = 124\\nvalue = [7, 6, 111]'),\n",
       " Text(251.1, 54.359999999999985, 'X[1] <= 2.5\\ngini = 0.476\\nsamples = 29\\nvalue = [4, 5, 20]'),\n",
       " Text(245.12142857142857, 18.119999999999976, 'gini = 0.124\\nsamples = 15\\nvalue = [1, 0, 14]'),\n",
       " Text(257.0785714285714, 18.119999999999976, 'gini = 0.643\\nsamples = 14\\nvalue = [3, 5, 6]'),\n",
       " Text(275.01428571428573, 54.359999999999985, 'X[0] <= 2.5\\ngini = 0.081\\nsamples = 95\\nvalue = [3, 1, 91]'),\n",
       " Text(269.0357142857143, 18.119999999999976, 'gini = 0.0\\nsamples = 63\\nvalue = [0, 0, 63]'),\n",
       " Text(280.99285714285713, 18.119999999999976, 'gini = 0.225\\nsamples = 32\\nvalue = [3, 1, 28]'),\n",
       " Text(310.8857142857143, 90.6, 'X[1] <= 2.5\\ngini = 0.596\\nsamples = 85\\nvalue = [10, 36, 39]'),\n",
       " Text(298.92857142857144, 54.359999999999985, 'X[3] <= 3.5\\ngini = 0.174\\nsamples = 32\\nvalue = [1, 2, 29]'),\n",
       " Text(292.95, 18.119999999999976, 'gini = 0.379\\nsamples = 13\\nvalue = [1, 2, 10]'),\n",
       " Text(304.90714285714284, 18.119999999999976, 'gini = 0.0\\nsamples = 19\\nvalue = [0, 0, 19]'),\n",
       " Text(322.84285714285716, 54.359999999999985, 'X[3] <= 3.5\\ngini = 0.524\\nsamples = 53\\nvalue = [9, 34, 10]'),\n",
       " Text(316.8642857142857, 18.119999999999976, 'gini = 0.203\\nsamples = 27\\nvalue = [2, 24, 1]'),\n",
       " Text(328.82142857142856, 18.119999999999976, 'gini = 0.66\\nsamples = 26\\nvalue = [7, 10, 9]')]"
      ]
     },
     "execution_count": 22,
     "metadata": {},
     "output_type": "execute_result"
    },
    {
     "data": {
      "image/png": "[encoded data removed]",
      "text/plain": [
       "<Figure size 432x288 with 1 Axes>"
      ]
     },
     "metadata": {},
     "output_type": "display_data"
    }
   ],
   "source": [
    "clf_gini = DecisionTreeClassifier(\n",
    "    criterion='gini',\n",
    "    max_depth=5,\n",
    "    random_state=25,\n",
    "    min_samples_leaf=1,\n",
    ")\n",
    "clf_gini.fit(X_train, y_train)\n",
    "y_pred = clf_gini.predict(X_test)\n",
    "#print(classification_report(y_test, y_pred))\n",
    "#confusion_matrix(y_test, y_pred)\n",
    "\n",
    "plot_tree(clf_gini)"
   ]
  },
  {
   "cell_type": "code",
   "execution_count": null,
   "metadata": {},
   "outputs": [],
   "source": [
    "print(clf_gini.tree_)"
   ]
  },
  {
   "cell_type": "code",
   "execution_count": 18,
   "metadata": {},
   "outputs": [],
   "source": [
    "x1 = data.iloc[:,1]\n",
    "x2 = data.iloc[:,2]"
   ]
  },
  {
   "cell_type": "code",
   "execution_count": 19,
   "metadata": {},
   "outputs": [],
   "source": [
    "# Driver code \n",
    "def main(): \n",
    "    # Building Phase \n",
    "    data = importdata() \n",
    "    X, Y, X_train, X_test, y_train, y_test = splitdataset(data) \n",
    "    clf_gini = train_using_gini(X_train, X_test, y_train) \n",
    "    clf_entropy = tarin_using_entropy(X_train, X_test, y_train) \n",
    "    # Operational Phase \n",
    "    print('Results Using Gini Index:') \n",
    "    # Prediction using gini \n",
    "    y_pred_gini = prediction(X_test, clf_gini) \n",
    "    cal_accuracy(y_test, y_pred_gini) \n",
    "    print('\\n\\n\\n\\n')\n",
    "    print('Results Using Entropy:') \n",
    "    # Prediction using entropy \n",
    "    y_pred_entropy = prediction(X_test, clf_entropy) \n",
    "    cal_accuracy(y_test, y_pred_entropy)"
   ]
  },
  {
   "cell_type": "code",
   "execution_count": 20,
   "metadata": {},
   "outputs": [
    {
     "name": "stdout",
     "output_type": "stream",
     "text": [
      "Results Using Gini Index:\n",
      "Predicted values:\n",
      "['R' 'R' 'R' 'R' 'R' 'R' 'L' 'R' 'R' 'L' 'R' 'R' 'L' 'L' 'R' 'L' 'R' 'L'\n",
      " 'R' 'R' 'R' 'R' 'L' 'L' 'R' 'L' 'L' 'R' 'L' 'R' 'R' 'R' 'L' 'L' 'R' 'L'\n",
      " 'R' 'R' 'L' 'L' 'R' 'R' 'L' 'R' 'L' 'R' 'L' 'R' 'R' 'L' 'L' 'R' 'R' 'R'\n",
      " 'L' 'R' 'L' 'R' 'L' 'R' 'L' 'R' 'R' 'R' 'R' 'R' 'L' 'R' 'R' 'L' 'R' 'L'\n",
      " 'L' 'R' 'R' 'R' 'R' 'L' 'R' 'L' 'L' 'R' 'R' 'R' 'R' 'L' 'R' 'L' 'L' 'R'\n",
      " 'L' 'R' 'L' 'L' 'L' 'R' 'R' 'L' 'R' 'L' 'R' 'L' 'R' 'R' 'R' 'L' 'R' 'L'\n",
      " 'L' 'L' 'L' 'L' 'L' 'R' 'R' 'R' 'R' 'R' 'L' 'L' 'R' 'R' 'R' 'R' 'L' 'L'\n",
      " 'R' 'R' 'L' 'R' 'R' 'L' 'L' 'R' 'R' 'R' 'R' 'L' 'R' 'R' 'L' 'R' 'L' 'R'\n",
      " 'R' 'R' 'L' 'R' 'R' 'R' 'L' 'R' 'R' 'R' 'L' 'R' 'R' 'R' 'R' 'R' 'L' 'R'\n",
      " 'L' 'R' 'R' 'R' 'R' 'R' 'L' 'L' 'R' 'R' 'L' 'R' 'R' 'R' 'R' 'R' 'R' 'R'\n",
      " 'L' 'L' 'R' 'R' 'R' 'L' 'R' 'R']\n",
      "Confusion Matrix:  [[ 0  6  9]\n",
      " [ 0 53 32]\n",
      " [ 0 11 77]]\n",
      "Accuracy (%):  69.14893617021278\n",
      "Report:                precision    recall  f1-score   support\n",
      "\n",
      "           B       0.00      0.00      0.00        15\n",
      "           L       0.76      0.62      0.68        85\n",
      "           R       0.65      0.88      0.75        88\n",
      "\n",
      "    accuracy                           0.69       188\n",
      "   macro avg       0.47      0.50      0.48       188\n",
      "weighted avg       0.65      0.69      0.66       188\n",
      "\n",
      "\n",
      "\n",
      "\n",
      "\n",
      "\n",
      "Results Using Entropy:\n",
      "Predicted values:\n",
      "['R' 'R' 'R' 'R' 'R' 'R' 'R' 'R' 'R' 'L' 'R' 'R' 'L' 'L' 'R' 'L' 'R' 'L'\n",
      " 'R' 'R' 'R' 'R' 'L' 'L' 'R' 'L' 'L' 'R' 'L' 'R' 'R' 'R' 'L' 'L' 'R' 'L'\n",
      " 'R' 'L' 'L' 'L' 'L' 'L' 'L' 'L' 'L' 'R' 'L' 'R' 'R' 'L' 'L' 'R' 'L' 'L'\n",
      " 'L' 'R' 'L' 'L' 'L' 'R' 'L' 'R' 'R' 'R' 'L' 'L' 'L' 'R' 'R' 'L' 'R' 'L'\n",
      " 'L' 'L' 'L' 'L' 'R' 'L' 'R' 'L' 'L' 'R' 'L' 'R' 'R' 'L' 'R' 'L' 'R' 'R'\n",
      " 'L' 'R' 'L' 'L' 'L' 'R' 'L' 'L' 'R' 'L' 'R' 'L' 'R' 'R' 'L' 'L' 'R' 'L'\n",
      " 'L' 'L' 'L' 'L' 'L' 'R' 'R' 'R' 'L' 'R' 'L' 'L' 'R' 'R' 'L' 'R' 'L' 'R'\n",
      " 'R' 'L' 'L' 'R' 'R' 'L' 'L' 'L' 'R' 'R' 'R' 'L' 'R' 'R' 'L' 'R' 'L' 'R'\n",
      " 'L' 'R' 'L' 'L' 'R' 'R' 'L' 'R' 'R' 'L' 'L' 'R' 'R' 'R' 'R' 'R' 'L' 'R'\n",
      " 'L' 'R' 'R' 'R' 'L' 'R' 'L' 'L' 'R' 'R' 'L' 'L' 'L' 'R' 'L' 'R' 'R' 'R'\n",
      " 'R' 'L' 'L' 'R' 'R' 'R' 'R' 'R']\n",
      "Confusion Matrix:  [[ 0  5 10]\n",
      " [ 0 68 17]\n",
      " [ 0 19 69]]\n",
      "Accuracy (%):  72.87234042553192\n",
      "Report:                precision    recall  f1-score   support\n",
      "\n",
      "           B       0.00      0.00      0.00        15\n",
      "           L       0.74      0.80      0.77        85\n",
      "           R       0.72      0.78      0.75        88\n",
      "\n",
      "    accuracy                           0.73       188\n",
      "   macro avg       0.49      0.53      0.51       188\n",
      "weighted avg       0.67      0.73      0.70       188\n",
      "\n"
     ]
    },
    {
     "name": "stderr",
     "output_type": "stream",
     "text": [
      "//anaconda3/envs/nf/lib/python3.6/site-packages/sklearn/metrics/classification.py:1437: UndefinedMetricWarning: Precision and F-score are ill-defined and being set to 0.0 in labels with no predicted samples.\n",
      "  'precision', 'predicted', average, warn_for)\n",
      "//anaconda3/envs/nf/lib/python3.6/site-packages/sklearn/metrics/classification.py:1437: UndefinedMetricWarning: Precision and F-score are ill-defined and being set to 0.0 in labels with no predicted samples.\n",
      "  'precision', 'predicted', average, warn_for)\n",
      "//anaconda3/envs/nf/lib/python3.6/site-packages/sklearn/metrics/classification.py:1437: UndefinedMetricWarning: Precision and F-score are ill-defined and being set to 0.0 in labels with no predicted samples.\n",
      "  'precision', 'predicted', average, warn_for)\n",
      "//anaconda3/envs/nf/lib/python3.6/site-packages/sklearn/metrics/classification.py:1437: UndefinedMetricWarning: Precision and F-score are ill-defined and being set to 0.0 in labels with no predicted samples.\n",
      "  'precision', 'predicted', average, warn_for)\n",
      "//anaconda3/envs/nf/lib/python3.6/site-packages/sklearn/metrics/classification.py:1437: UndefinedMetricWarning: Precision and F-score are ill-defined and being set to 0.0 in labels with no predicted samples.\n",
      "  'precision', 'predicted', average, warn_for)\n",
      "//anaconda3/envs/nf/lib/python3.6/site-packages/sklearn/metrics/classification.py:1437: UndefinedMetricWarning: Precision and F-score are ill-defined and being set to 0.0 in labels with no predicted samples.\n",
      "  'precision', 'predicted', average, warn_for)\n"
     ]
    }
   ],
   "source": [
    "# Calling main function \n",
    "if __name__=='__main__': \n",
    "    main() "
   ]
  },
  {
   "cell_type": "code",
   "execution_count": null,
   "metadata": {},
   "outputs": [],
   "source": []
  }
 ],
 "metadata": {
  "kernelspec": {
   "display_name": "Python [conda env:nf] *",
   "language": "python",
   "name": "conda-env-nf-py"
  },
  "language_info": {
   "codemirror_mode": {
    "name": "ipython",
    "version": 3
   },
   "file_extension": ".py",
   "mimetype": "text/x-python",
   "name": "python",
   "nbconvert_exporter": "python",
   "pygments_lexer": "ipython3",
   "version": "3.6.6"
  }
 },
 "nbformat": 4,
 "nbformat_minor": 4
}
